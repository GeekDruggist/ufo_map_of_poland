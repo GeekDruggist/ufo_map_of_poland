{
 "cells": [
  {
   "cell_type": "code",
   "execution_count": null,
   "id": "3c841e47",
   "metadata": {},
   "outputs": [],
   "source": [
    "import pandas as pd"
   ]
  },
  {
   "cell_type": "code",
   "execution_count": null,
   "id": "662ca05b",
   "metadata": {},
   "outputs": [],
   "source": [
    "#preparing and cleaning data:\n",
    "df = pd.read_csv('./assets/data/UFO_raw.csv')"
   ]
  },
  {
   "cell_type": "code",
   "execution_count": null,
   "id": "5ef1b660",
   "metadata": {},
   "outputs": [],
   "source": [
    "# dropping unnecessary columns:\n",
    "try:\n",
    "    df.drop('Unnamed: 0', axis=1, inplace=True)\n",
    "except:\n",
    "    pass\n",
    "\n",
    "# capitalizing each word and removing redundant spaces:\n",
    "df = df.apply(lambda x: x.str.title() if x.dtype == object else x)\n",
    "\n",
    "\n",
    "# replacing unnecessary strings:\n",
    "df.replace(['\\(Poland\\)', 'Voivodeship', 'Województwo'], '', regex=True, inplace=True)\n",
    "df.replace('Undisclosed', 'No data', inplace=True)\n",
    "df.fillna('No data', inplace=True)\n",
    "\n",
    "# splitting column into two columns:\n",
    "df[['Town', 'Voivodeship']] = df['Location'].str.split(',', n=1, expand=True)\n",
    "\n",
    "# dropping original column:\n",
    "try:\n",
    "    df.drop('Location', axis=1, inplace=True)\n",
    "except:\n",
    "    pass\n",
    "\n",
    "# rearranging columns' order:\n",
    "df = df[['Town', 'Voivodeship', 'Sighted on', 'Shape', 'Duration']]\n",
    "\n",
    "# removing redundant spaces:\n",
    "df = df.apply(lambda x: x.str.strip() if x.dtype == object else x)"
   ]
  },
  {
   "cell_type": "code",
   "execution_count": null,
   "id": "1d5f39ea",
   "metadata": {},
   "outputs": [],
   "source": [
    "voivodeships_dict = {\n",
    "    'Zachodniopomorskie': 'West Pomeranian',\n",
    "    'Pomorskie': 'Pomeranian',\n",
    "    'Warmińsko-Mazurskie': 'Warmian-Masurian',\n",
    "    'Podlaskie': 'Podlaskie',\n",
    "    'Lubuskie': 'Lubusz',\n",
    "    'Wielkopolskie': 'Greater Poland',\n",
    "    'Kujawsko-Pomorskie': 'Kujavian-Pomeranian',\n",
    "    'Dolnośląskie': 'Lower Silesian',\n",
    "    'Opolskie': 'Opole',\n",
    "    'Śląskie': 'Silesian',\n",
    "    'Świętokrzyskie': 'Swietokrzyskie',\n",
    "    'Łódzkie': 'Lodz',\n",
    "    'Mazowieckie': 'Masovian',\n",
    "    'Lubelskie': 'Lublin',\n",
    "    'Małopolskie': 'Lesser Poland',\n",
    "    'Podkarpackie': 'Subcarpathian'\n",
    "}\n",
    "\n",
    "polish_dict = {\n",
    "    'ą': 'a', \n",
    "    'ć': 'c', \n",
    "    'ę': 'e',\n",
    "    'ł': 'l',\n",
    "    'ń': 'n', \n",
    "    'ó': 'o', \n",
    "    'ś': 's',\n",
    "    'ź': 'z', \n",
    "    'ż': 'z'\n",
    "}"
   ]
  },
  {
   "cell_type": "code",
   "execution_count": null,
   "id": "f5beb157",
   "metadata": {},
   "outputs": [],
   "source": [
    "# replacing Polish voivodeships' names and Polish letters by their English counterparts:\n",
    "df.replace(voivodeships_dict.keys(), voivodeships_dict.values(), regex=True, inplace=True)\n",
    "df['Town'] = df['Town'].str.lower()\n",
    "df.replace(polish_dict.keys(), polish_dict.values(), regex=True, inplace=True)\n",
    "df['Town'] = df['Town'].str.title()\n",
    "df['Year'] = df['Sighted on'].str.split('-', n=1, expand=True)[0]"
   ]
  },
  {
   "cell_type": "code",
   "execution_count": null,
   "id": "c0f2239b",
   "metadata": {},
   "outputs": [],
   "source": [
    "df.to_csv('./assets/data/UFO_clean.csv', index=False)"
   ]
  },
  {
   "cell_type": "code",
   "execution_count": null,
   "id": "31dc29cd",
   "metadata": {},
   "outputs": [],
   "source": [
    "# preparing coordinates dataset:\n",
    "df = pd.read_csv('./assets/data/Coordinates.csv', sep='\\tab', engine='python')\n",
    "\n",
    "df[['Town1', 'Town2', 'Coordinates']] = df.iloc[:, 0].str.split(' ', n=2, expand=True)\n",
    "df.replace(['°', '\\'E', '\\'N'], ['.', ', ', ''], regex=True, inplace=True)\n",
    "df[['Long', 'Lat']] = df['Coordinates'].str.split(',', n=3, expand=True)\n",
    "df['Town'] = df[['Town1', 'Town2']].agg(' '.join, axis=1)\n",
    "df.drop(df.iloc[:, :2], axis=1, inplace=True)\n",
    "df = df[['Town', 'Coordinates', 'Lat', 'Long']]\n",
    "df['Town'] = df['Town'].str.lower()\n",
    "df.replace(polish_dict.keys(), polish_dict.values(), regex=True, inplace=True)\n",
    "df['Town'] = df['Town'].str.title()\n",
    "df = df.apply(lambda x: x.str.strip() if x.dtype == object else x)"
   ]
  },
  {
   "cell_type": "code",
   "execution_count": null,
   "id": "8661d4a2",
   "metadata": {},
   "outputs": [],
   "source": [
    "df.to_csv('./assets/data/Coordinates_clean.csv', index=False)"
   ]
  },
  {
   "cell_type": "code",
   "execution_count": null,
   "id": "e9c91aac",
   "metadata": {},
   "outputs": [],
   "source": [
    "# merging two dataframes:\n",
    "df_ufo = pd.read_csv('./assets/data/UFO_clean.csv')\n",
    "df_coords = pd.read_csv('./assets/data/Coordinates_clean.csv')\n",
    "df_merged = df_ufo.merge(df_coords[['Town', 'Lat', 'Long']], on='Town')"
   ]
  },
  {
   "cell_type": "code",
   "execution_count": null,
   "id": "c4251d5a",
   "metadata": {},
   "outputs": [],
   "source": [
    "df_merged.to_csv('./assets/data/Clean_data.csv')"
   ]
  }
 ],
 "metadata": {
  "kernelspec": {
   "display_name": "dashapps",
   "language": "python",
   "name": "python3"
  },
  "language_info": {
   "codemirror_mode": {
    "name": "ipython",
    "version": 3
   },
   "file_extension": ".py",
   "mimetype": "text/x-python",
   "name": "python",
   "nbconvert_exporter": "python",
   "pygments_lexer": "ipython3",
   "version": "3.13.1"
  }
 },
 "nbformat": 4,
 "nbformat_minor": 5
}
